{
 "cells": [
  {
   "cell_type": "code",
   "execution_count": 1,
   "metadata": {},
   "outputs": [],
   "source": [
    "%run main.py\n",
    "\n",
    "token = ''      # укажите ваш OAuth-токен от Яндекса\n",
    "counterId = ''  # укажите номер счетчика\n",
    "\n",
    "ym = YandexMetrikaConnectorAPI(token, counterId)"
   ]
  },
  {
   "cell_type": "code",
   "execution_count": null,
   "metadata": {},
   "outputs": [
    {
     "name": "stdout",
     "output_type": "stream",
     "text": [
      "------------------------------------------\n",
      "            ГЛАВНОЕ МЕНЮ\n",
      "------------------------------------------\n",
      "    Операции, доступные для ввода:\n",
      "    '1' - Получить список идентификаторов запросов логов с сервера\n",
      "    '2' - Создать новый запрос логов на сервере \n",
      "    '3' - Удалить запрос(ы) логов на сервере \n",
      "    '4' - Записать результат в excel файл\n",
      "    '0' - Выйти из меню и завершить работу (также команда 'exit')\n",
      "Введите код операции: 2\n",
      "Укажите источник запроса:\n",
      "'1' - визиты (visits)\n",
      "'2' - показы (hits): 2\n",
      "Укажите начальную дату в формате 'ГГГГ-ММ-ДД': 2019-10-01\n",
      "Укажите конечную дату в формате 'ГГГГ-ММ-ДД': 2019-10-30\n",
      "Cоздан запрос id: 5117635, со статусом: created (создан (не готов к выгрузке))\n",
      "------------------------------------------\n",
      "            ГЛАВНОЕ МЕНЮ\n",
      "------------------------------------------\n",
      "    Операции, доступные для ввода:\n",
      "    '1' - Получить список идентификаторов запросов логов с сервера\n",
      "    '2' - Создать новый запрос логов на сервере \n",
      "    '3' - Удалить запрос(ы) логов на сервере \n",
      "    '4' - Записать результат в excel файл\n",
      "    '0' - Выйти из меню и завершить работу (также команда 'exit')\n",
      "Введите код операции: 2\n",
      "Укажите источник запроса:\n",
      "'1' - визиты (visits)\n",
      "'2' - показы (hits): 2\n",
      "Укажите начальную дату в формате 'ГГГГ-ММ-ДД': 2019-10-01\n",
      "Укажите конечную дату в формате 'ГГГГ-ММ-ДД': 2019-10-30\n",
      "Cоздан запрос id: 5117638, со статусом: created (создан (не готов к выгрузке))\n",
      "------------------------------------------\n",
      "            ГЛАВНОЕ МЕНЮ\n",
      "------------------------------------------\n",
      "    Операции, доступные для ввода:\n",
      "    '1' - Получить список идентификаторов запросов логов с сервера\n",
      "    '2' - Создать новый запрос логов на сервере \n",
      "    '3' - Удалить запрос(ы) логов на сервере \n",
      "    '4' - Записать результат в excel файл\n",
      "    '0' - Выйти из меню и завершить работу (также команда 'exit')\n",
      "Введите код операции: 1\n",
      "------------------------------------------\n",
      "СПИСОК ЗАПРОСОВ ЛОГОВ:\n",
      "------------------------------------------\n",
      "1. Идентификатор запроса логов: 5109718\n",
      "   Идентификатор счётчика: 38916975\n",
      "   Источник логов: визиты (visits)\n",
      "   Даты запроса: 2019.10.01 - 2019.10.30\n",
      "   Статус запроса: обработан (готов к выгрузке)\n",
      "2. Идентификатор запроса логов: 5117635\n",
      "   Идентификатор счётчика: 38916975\n",
      "   Источник логов: показы (hits)\n",
      "   Даты запроса: 2019.10.01 - 2019.10.30\n",
      "   Статус запроса: обработан (готов к выгрузке)\n",
      "3. Идентификатор запроса логов: 5117638\n",
      "   Идентификатор счётчика: 38916975\n",
      "   Источник логов: показы (hits)\n",
      "   Даты запроса: 2019.10.01 - 2019.10.30\n",
      "   Статус запроса: обработан (готов к выгрузке)\n",
      "------------------------------------------\n",
      "            ГЛАВНОЕ МЕНЮ\n",
      "------------------------------------------\n",
      "    Операции, доступные для ввода:\n",
      "    '1' - Получить список идентификаторов запросов логов с сервера\n",
      "    '2' - Создать новый запрос логов на сервере \n",
      "    '3' - Удалить запрос(ы) логов на сервере \n",
      "    '4' - Записать результат в excel файл\n",
      "    '0' - Выйти из меню и завершить работу (также команда 'exit')\n",
      "Введите код операции: 4\n",
      "Список запросов логов хранящихся на сервере:  5109718(visits), 5117635(hits), 5117638(hits)\n",
      "Введите id запроса для записи данных в excel файл (из списка): 5117638\n"
     ]
    },
    {
     "name": "stderr",
     "output_type": "stream",
     "text": [
      "/Library/Frameworks/Python.framework/Versions/3.7/lib/python3.7/site-packages/xlsxwriter/worksheet.py:931: UserWarning: Ignoring URL 'http://google.com/url?sa=t&rct=j&q=&esrc=s&source=web&cd=1&ved=0CFAQFjAD&url=http:%2F%2Fgarant-pravarf.ru%2Fnashi-uslugi%2Fyuridicheskaya-pomoshh-grazhdanam-fl%2Fadvokat-po-ugolovnyim-delam.html&ei=houSXZ-nE97-7gHjgwE&usg=AFQjCNG2-bG2WEYs_7XG-qPgHEnvGAjjHg' with link or location/anchor > 255 characters since it exceeds Excel's limit for URLS\n",
      "  force_unicode(url))\n",
      "/Library/Frameworks/Python.framework/Versions/3.7/lib/python3.7/site-packages/xlsxwriter/worksheet.py:931: UserWarning: Ignoring URL 'http://google.com/url?sa=t&rct=j&q=&esrc=s&source=web&cd=1&ved=0CDwQFjAG&url=http:%2F%2Fgarant-pravarf.ru%2Fnashi-uslugi%2Fyuridicheskaya-pomoshh-grazhdanam-fl%2F%3Futm_medium%3Dcpc%26utm_source%3Dgoogle_adwords%26utm_campaign%3Dlawyer-service%26utm_term%3D&ei=20WdXdfdAbTwzATcCQ&usg=AFQjCNGgL2DWYVSL0jr_k8iVPB3vNhuHnQ' with link or location/anchor > 255 characters since it exceeds Excel's limit for URLS\n",
      "  force_unicode(url))\n",
      "/Library/Frameworks/Python.framework/Versions/3.7/lib/python3.7/site-packages/xlsxwriter/worksheet.py:931: UserWarning: Ignoring URL 'http://google.com/url?sa=t&rct=j&q=&esrc=s&source=web&cd=3&ved=0CEEQFjAG&url=http:%2F%2Fgarant-pravarf.ru%2Fnashi-uslugi%2Fyuridicheskaya-pomoshh-grazhdanam-fl%2F%3Futm_medium%3Dcpc%26utm_source%3Dgoogle_adwords%26utm_campaign%3Dlawyer-service%26utm_term%3D&ei=oYedXZ73L6zLsAX6qgE&usg=AFQjCNGgL2DWYVSL0jr_k8iVPB3vNhuHnQ' with link or location/anchor > 255 characters since it exceeds Excel's limit for URLS\n",
      "  force_unicode(url))\n"
     ]
    },
    {
     "name": "stdout",
     "output_type": "stream",
     "text": [
      "Лист 'request_id_5117638' записан в исходный файл 'hits_5117638_20191001_20191030.xlsx'.\n",
      "------------------------------------------\n",
      "            ГЛАВНОЕ МЕНЮ\n",
      "------------------------------------------\n",
      "    Операции, доступные для ввода:\n",
      "    '1' - Получить список идентификаторов запросов логов с сервера\n",
      "    '2' - Создать новый запрос логов на сервере \n",
      "    '3' - Удалить запрос(ы) логов на сервере \n",
      "    '4' - Записать результат в excel файл\n",
      "    '0' - Выйти из меню и завершить работу (также команда 'exit')\n",
      "Введите код операции: 4\n",
      "Список запросов логов хранящихся на сервере:  5109718(visits), 5117635(hits), 5117638(hits)\n",
      "Введите id запроса для записи данных в excel файл (из списка): 5117635\n",
      "Лист 'request_id_5117635' записан в исходный файл 'hits_5117635_20191001_20191030.xlsx'.\n",
      "------------------------------------------\n",
      "            ГЛАВНОЕ МЕНЮ\n",
      "------------------------------------------\n",
      "    Операции, доступные для ввода:\n",
      "    '1' - Получить список идентификаторов запросов логов с сервера\n",
      "    '2' - Создать новый запрос логов на сервере \n",
      "    '3' - Удалить запрос(ы) логов на сервере \n",
      "    '4' - Записать результат в excel файл\n",
      "    '0' - Выйти из меню и завершить работу (также команда 'exit')\n"
     ]
    }
   ],
   "source": [
    "ym.start()"
   ]
  },
  {
   "cell_type": "code",
   "execution_count": null,
   "metadata": {},
   "outputs": [],
   "source": [
    "\n"
   ]
  },
  {
   "cell_type": "code",
   "execution_count": null,
   "metadata": {},
   "outputs": [],
   "source": []
  },
  {
   "cell_type": "code",
   "execution_count": null,
   "metadata": {},
   "outputs": [],
   "source": []
  },
  {
   "cell_type": "code",
   "execution_count": null,
   "metadata": {},
   "outputs": [],
   "source": []
  }
 ],
 "metadata": {
  "kernelspec": {
   "display_name": "Python 3",
   "language": "python",
   "name": "python3"
  },
  "language_info": {
   "codemirror_mode": {
    "name": "ipython",
    "version": 3
   },
   "file_extension": ".py",
   "mimetype": "text/x-python",
   "name": "python",
   "nbconvert_exporter": "python",
   "pygments_lexer": "ipython3",
   "version": "3.7.4"
  }
 },
 "nbformat": 4,
 "nbformat_minor": 2
}
